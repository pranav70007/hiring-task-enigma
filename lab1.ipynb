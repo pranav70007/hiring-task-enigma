{
 "cells": [
  {
   "cell_type": "code",
   "execution_count": null,
   "id": "e4ce0895",
   "metadata": {},
   "outputs": [],
   "source": [
    "from google import genai\n",
    "\n",
    "client = genai.Client()\n",
    "\n",
    "result = client.models.embed_content(\n",
    "        model=\"gemini-embedding-001\",\n",
    "        contents= [\n",
    "            \"What is the meaning of life?\",\n",
    "            \"What is the purpose of existence?\",\n",
    "            \"How do I bake a cake?\"\n",
    "        ])\n",
    "\n",
    "for embedding in result.embeddings:\n",
    "    print(embedding)"
   ]
  },
  {
   "cell_type": "code",
   "execution_count": 10,
   "id": "5601bb44",
   "metadata": {},
   "outputs": [
    {
     "name": "stdout",
     "output_type": "stream",
     "text": [
      "Index vietnam-travel already exists.\n"
     ]
    }
   ],
   "source": [
    "\n",
    "\n",
    "# Initialize the client\n",
    "pc = Pinecone(api_key=config.PINECONE_API_KEY   )\n",
    "INDEX_NAME=config.PINECONE_INDEX_NAME\n",
    "VECTOR_DIM=config.PINECONE_VECTOR_DIM\n",
    "\n",
    "existing_indexes = pc.list_indexes().names()\n",
    "if INDEX_NAME not in existing_indexes:\n",
    "    print(f\"Creating managed index: {INDEX_NAME}\")\n",
    "    pc.create_index(\n",
    "        name=INDEX_NAME,\n",
    "        dimension=VECTOR_DIM,\n",
    "        metric=\"cosine\",\n",
    "        spec=ServerlessSpec(\n",
    "        cloud=\"aws\",\n",
    "        region=\"us-east-1\",\n",
    "        )\n",
    "    )\n",
    "else:\n",
    "    print(f\"Index {INDEX_NAME} already exists.\")\n",
    "\n",
    "\n"
   ]
  },
  {
   "cell_type": "markdown",
   "id": "34f7ffb2",
   "metadata": {},
   "source": [
    "HELPER FUNCTIONS"
   ]
  },
  {
   "cell_type": "code",
   "execution_count": 14,
   "id": "42c6379f",
   "metadata": {},
   "outputs": [],
   "source": [
    "BATCH_SIZE = 32\n",
    "index = pc.Index(INDEX_NAME)\n",
    "from dotenv import load_dotenv\n",
    "load_dotenv()\n",
    "from google import genai\n",
    "client=genai.Client()\n",
    "\n",
    "result = client.models.embed_content(\n",
    "        model=\"gemini-embedding-001\",\n",
    "        contents=\"What is the meaning of life?\")\n",
    "\n",
    "\n",
    "def get_embeddings(texts, model=\"text-embedding-3-small\"):\n",
    "    \"\"\"Generate embeddings using OpenAI v1.0+ API.\"\"\"\n",
    "    resp = client.embeddings.create(model=model, input=texts)\n",
    "    return [data.embedding for data in resp.data]\n"
   ]
  },
  {
   "cell_type": "code",
   "execution_count": 3,
   "id": "4601b1de",
   "metadata": {},
   "outputs": [],
   "source": [
    "DATA_FILE = \"../vietnam_travel_dataset.json\"\n",
    "\n",
    "with open(DATA_FILE, \"r\", encoding=\"utf-8\") as f:\n",
    "    nodes = json.load(f)\n",
    "\n"
   ]
  },
  {
   "cell_type": "code",
   "execution_count": 65,
   "id": "e8a70a23",
   "metadata": {},
   "outputs": [],
   "source": [
    "from google import genai\n",
    "from dotenv import load_dotenv\n",
    "load_dotenv()\n",
    "client=genai.Client()\n",
    "def get_embeddings(texts):\n",
    "    result = client.models.embed_content(\n",
    "        model=\"gemini-embedding-001\",\n",
    "        contents=texts)\n",
    "    return [i.values for i in result.embeddings]\n"
   ]
  },
  {
   "cell_type": "code",
   "execution_count": 66,
   "id": "e954a159",
   "metadata": {},
   "outputs": [],
   "source": [
    "a=get_embeddings([\"Hello, world!\"])"
   ]
  },
  {
   "cell_type": "code",
   "execution_count": 62,
   "id": "47326843",
   "metadata": {},
   "outputs": [
    {
     "data": {
      "text/plain": [
       "3072"
      ]
     },
     "execution_count": 62,
     "metadata": {},
     "output_type": "execute_result"
    }
   ],
   "source": [
    "len(a[0].values)"
   ]
  }
 ],
 "metadata": {
  "kernelspec": {
   "display_name": "Python 3",
   "language": "python",
   "name": "python3"
  },
  "language_info": {
   "codemirror_mode": {
    "name": "ipython",
    "version": 3
   },
   "file_extension": ".py",
   "mimetype": "text/x-python",
   "name": "python",
   "nbconvert_exporter": "python",
   "pygments_lexer": "ipython3",
   "version": "3.12.1"
  }
 },
 "nbformat": 4,
 "nbformat_minor": 5
}
