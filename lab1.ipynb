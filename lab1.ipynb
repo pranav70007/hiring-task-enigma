{
 "cells": [
  {
   "cell_type": "code",
   "execution_count": 3,
   "id": "49ae67d1",
   "metadata": {},
   "outputs": [
    {
     "name": "stderr",
     "output_type": "stream",
     "text": [
      "/usr/local/python/3.12.1/lib/python3.12/site-packages/tqdm/auto.py:21: TqdmWarning: IProgress not found. Please update jupyter and ipywidgets. See https://ipywidgets.readthedocs.io/en/stable/user_install.html\n",
      "  from .autonotebook import tqdm as notebook_tqdm\n"
     ]
    }
   ],
   "source": [
    "# hybrid_chat.py\n",
    "from typing import List\n",
    "from google import genai\n",
    "from dotenv import load_dotenv\n",
    "from pinecone import Pinecone, ServerlessSpec\n",
    "from neo4j import GraphDatabase\n",
    "import config\n",
    "load_dotenv()\n",
    "\n",
    "TOP_K = 10\n",
    "TOP_K_NEO4J = 10\n",
    "INDEX_NAME = config.PINECONE_INDEX_NAME\n",
    "\n",
    "client = genai.Client(api_key=config.GOOGLE_API_KEY)\n",
    "pc = Pinecone(api_key=config.PINECONE_API_KEY)\n",
    "\n",
    "if INDEX_NAME not in pc.list_indexes().names():\n",
    "    print(f\"Creating managed index: {INDEX_NAME}\")\n",
    "    pc.create_index(\n",
    "        name=INDEX_NAME,\n",
    "        dimension=config.PINECONE_VECTOR_DIM,\n",
    "        metric=\"cosine\",\n",
    "        spec=ServerlessSpec(cloud=\"aws\", region=\"us-east-1\")\n",
    "    )\n",
    "\n",
    "index = pc.Index(INDEX_NAME)\n",
    "driver = GraphDatabase.driver(\n",
    "    config.NEO4J_URI, auth=(config.NEO4J_USER, config.NEO4J_PASSWORD)\n",
    ")\n",
    "\n",
    "from functools import lru_cache\n",
    "\n",
    "@lru_cache(maxsize=1000)\n",
    "def _cached_embed(text: str) -> tuple:\n",
    "    resp = client.models.embed_content(\n",
    "        model=\"gemini-embedding-001\",\n",
    "        contents=[text]\n",
    "    )\n",
    "    return tuple(resp.embeddings[0].values)\n",
    "\n",
    "def embed_text(text: str) -> List[float]:\n",
    "    return list(_cached_embed(text))\n",
    "#pinecone top k\n",
    "def pinecone_query(query_text: str, top_k=TOP_K):\n",
    "    vec = embed_text(query_text)\n",
    "    res = index.query(\n",
    "        vector=vec,\n",
    "        top_k=top_k,\n",
    "        include_metadata=True,\n",
    "        include_values=False\n",
    "    )\n",
    "    return res[\"matches\"]\n",
    "\n",
    "# nodes top k\n",
    "@lru_cache(maxsize=1000)  \n",
    "def _fetch_single_node_context(node_id: str, depth: int) -> tuple:\n",
    "    session = driver.session()\n",
    "    q = (\n",
    "        f\"MATCH path=(n:Entity {{id: $nid}})-[r*1..{depth}]-(m:Entity) \"\n",
    "        \"WITH relationships(path) AS rels, m \"\n",
    "        \"RETURN [rel IN rels | type(rel)] AS rel_types, \"\n",
    "        \"labels(m) AS labels, m.id AS id, \"\n",
    "        \"m.name AS name, m.description AS description \"\n",
    "        f\"LIMIT {TOP_K_NEO4J}\"\n",
    "    )\n",
    "    recs = session.run(q, nid=node_id)\n",
    "    facts = []\n",
    "    for r in recs:\n",
    "        facts.append((\n",
    "            node_id,\n",
    "            tuple(r[\"rel_types\"]),\n",
    "            r[\"id\"],\n",
    "            r[\"name\"] or \"\",\n",
    "            r[\"description\"] or \"\",\n",
    "            tuple(r[\"labels\"])\n",
    "        ))\n",
    "    session.close()\n",
    "    return tuple(facts)\n",
    "\n",
    "def fetch_graph_context(node_ids: List[str], neighborhood_depth: int):\n",
    "    all_facts = []\n",
    "    for nid in node_ids:\n",
    "        node_facts = _fetch_single_node_context(nid, neighborhood_depth)\n",
    "        for fact in node_facts:\n",
    "            all_facts.append({\n",
    "                \"source\": fact[0],\n",
    "                \"rel\": \" -> \".join(fact[1]),\n",
    "                \"target_id\": fact[2],\n",
    "                \"target_name\": fact[3],\n",
    "                \"target_desc\": fact[4],\n",
    "                \"labels\": list(fact[5])\n",
    "            })\n",
    "    return all_facts\n",
    "\n",
    "def build_prompt(user_query, pinecone_matches, graph_facts):\n",
    "    system = (\n",
    "        \"You are a helpful travel assistant for Vietnam tourism. \"\n",
    "        \"Analyze the semantic search results and graph relationships provided. \"\n",
    "        \"Give clear, practical travel recommendations with specific places and connections between them.\"\n",
    "    )\n",
    "\n",
    "    #vec_context = [i for i in graph_facts]\n",
    "    #for m in pinecone_matches[:10]:\n",
    "        ##meta = m[\"metadata\"]\n",
    "        #score = m.get(\"score\", 0)\n",
    "        #relevance = \"Very Relevant\" if score > 0.8 else \"Relevant\" if score > 0.6 else \"Somewhat Relevant\"\n",
    "        \n",
    "        #snippet = f\"• {meta.get('name', 'Unknown')} ({relevance})\"\n",
    "        #if meta.get('city'):\n",
    "        #    snippet += f\" in {meta['city']}\"\n",
    "        #if meta.get('description'):\n",
    "        #    snippet += f\": {meta['description']}...\"\n",
    "        #vec_context.append(snippet)\n",
    "\n",
    "    #graph_context = []\n",
    "    #for f in graph_facts[:20]:\n",
    "        #rel_type = f['rel'].replace('_', ' ').lower()\n",
    "        #desc = f\" - {f['target_desc']}...\" if f['target_desc'] else \"\"\n",
    "        #graph_context.append(f\"• {f['source']} {rel_type} {f['target_name']}{desc}\")\n",
    "\n",
    "    prompt = [\n",
    "        {\"role\": \"system\", \"content\": system},\n",
    "        {\"role\": \"user\", \"content\":\n",
    "         f\"User query: {user_query}\\n\\n\"\n",
    "         \"Top semantic matches (from vector DB):\\n\" + \"\\n\".join(pinecone_matches) + \"\\n\\n\"\n",
    "         \"Graph facts (neighboring relations):\\n\" + \"\\n\".join(graph_facts) + \"\\n\\n\"\n",
    "         \"Based on the above, answer the user's question. If helpful, suggest 2–3 concrete itinerary steps or tips and mention node ids for references.\"}\n",
    "    ]\n",
    "    return prompt\n",
    "\n",
    "\n",
    "def call_chat(prompt_messages):\n",
    "    resp = client.models.generate_content(\n",
    "        model=\"gemini-2.5-pro\",\n",
    "        contents=prompt_messages,\n",
    "    )\n",
    "    return resp.text"
   ]
  },
  {
   "cell_type": "code",
   "execution_count": 4,
   "id": "f7d902f6",
   "metadata": {},
   "outputs": [],
   "source": [
    "\n",
    "a=pinecone_query(\"hanoi 4 day itinary?\")\n",
    "import pandas as pd"
   ]
  },
  {
   "cell_type": "code",
   "execution_count": 6,
   "id": "befddb1d",
   "metadata": {},
   "outputs": [],
   "source": [
    "a=pd.DataFrame(fetch_graph_context([i['id'] for i in a], 2)).drop_duplicates(subset='target_desc').to_dict(orient='records')"
   ]
  },
  {
   "cell_type": "code",
   "execution_count": 7,
   "id": "3baa899c",
   "metadata": {},
   "outputs": [
    {
     "data": {
      "text/plain": [
       "['activity_35 Available_In city_hanoi, has the description: A unique experience in Hanoi where visitors can enjoy bicycle tours.',\n",
       " 'activity_34 Available_In city_hanoi, has the description: A unique experience in Hanoi where visitors can enjoy cooking classes.',\n",
       " 'activity_33 Available_In city_hanoi, has the description: A unique experience in Hanoi where visitors can enjoy boat rides.',\n",
       " 'activity_32 Available_In city_hanoi, has the description: A unique experience in Hanoi where visitors can enjoy historical walks.',\n",
       " 'activity_26 Available_In city_hanoi, has the description: A unique experience in Hanoi where visitors can enjoy local markets.',\n",
       " 'city_hanoi Located_In attraction_6, has the description: Hanoi is located in Northern Vietnam. It’s known for its culture, food, heritage experiences, combining local culture, food, and history. Travelers often visit for authentic Vietnamese experiences, from exploring markets and temples to trying street food and scenic excursions.']"
      ]
     },
     "execution_count": 7,
     "metadata": {},
     "output_type": "execute_result"
    }
   ],
   "source": [
    "[\n",
    "    f\"{d['target_id']} {d['rel']} {d['source']}, has the description: {d['target_desc']}\"\n",
    "    for d in a\n",
    "]\n",
    "\n"
   ]
  },
  {
   "cell_type": "code",
   "execution_count": null,
   "id": "94f3ed1d",
   "metadata": {},
   "outputs": [],
   "source": []
  },
  {
   "cell_type": "code",
   "execution_count": null,
   "id": "f02a3f8f",
   "metadata": {},
   "outputs": [
    {
     "name": "stdout",
     "output_type": "stream",
     "text": [
      "{'source': 'city_sapa', 'rel': 'Available_In', 'target_id': 'activity_105', 'target_name': 'Sapa Activity 105', 'target_desc': 'A unique experience in Sapa where visitors can enjoy cooking classes.', 'labels': ['Entity', 'Activity']}\n",
      "{'source': 'city_sapa', 'rel': 'Available_In', 'target_id': 'activity_104', 'target_name': 'Sapa Activity 104', 'target_desc': 'A unique experience in Sapa where visitors can enjoy boat rides.', 'labels': ['Entity', 'Activity']}\n",
      "{'source': 'city_sapa', 'rel': 'Available_In', 'target_id': 'activity_103', 'target_name': 'Sapa Activity 103', 'target_desc': 'A unique experience in Sapa where visitors can enjoy local markets.', 'labels': ['Entity', 'Activity']}\n",
      "{'source': 'city_sapa', 'rel': 'Available_In', 'target_id': 'activity_102', 'target_name': 'Sapa Activity 102', 'target_desc': 'A unique experience in Sapa where visitors can enjoy bicycle tours.', 'labels': ['Entity', 'Activity']}\n",
      "{'source': 'city_sapa', 'rel': 'Available_In', 'target_id': 'activity_101', 'target_name': 'Sapa Activity 101', 'target_desc': 'A unique experience in Sapa where visitors can enjoy boat rides.', 'labels': ['Entity', 'Activity']}\n",
      "{'source': 'city_sapa', 'rel': 'Available_In', 'target_id': 'activity_100', 'target_name': 'Sapa Activity 100', 'target_desc': 'A unique experience in Sapa where visitors can enjoy boat rides.', 'labels': ['Entity', 'Activity']}\n",
      "{'source': 'city_sapa', 'rel': 'Available_In', 'target_id': 'activity_99', 'target_name': 'Sapa Activity 99', 'target_desc': 'A unique experience in Sapa where visitors can enjoy bicycle tours.', 'labels': ['Entity', 'Activity']}\n",
      "{'source': 'city_sapa', 'rel': 'Available_In', 'target_id': 'activity_98', 'target_name': 'Sapa Activity 98', 'target_desc': 'A unique experience in Sapa where visitors can enjoy boat rides.', 'labels': ['Entity', 'Activity']}\n",
      "{'source': 'city_sapa', 'rel': 'Available_In', 'target_id': 'activity_97', 'target_name': 'Sapa Activity 97', 'target_desc': 'A unique experience in Sapa where visitors can enjoy cooking classes.', 'labels': ['Entity', 'Activity']}\n",
      "{'source': 'city_sapa', 'rel': 'Available_In', 'target_id': 'activity_96', 'target_name': 'Sapa Activity 96', 'target_desc': 'A unique experience in Sapa where visitors can enjoy local markets.', 'labels': ['Entity', 'Activity']}\n",
      "{'source': 'attraction_74', 'rel': 'Located_In', 'target_id': 'city_sapa', 'target_name': 'Sapa', 'target_desc': 'Sapa is located in Northern Vietnam. It’s known for its mountain, trekking, ethnic experiences, combining local culture, food, and history. Travelers often visit for authentic Vietnamese experiences, from exploring markets and temples to trying street food and scenic excursions.', 'labels': ['Entity', 'City']}\n",
      "{'source': 'attraction_74', 'rel': 'Located_In -> Available_In', 'target_id': 'activity_105', 'target_name': 'Sapa Activity 105', 'target_desc': 'A unique experience in Sapa where visitors can enjoy cooking classes.', 'labels': ['Entity', 'Activity']}\n",
      "{'source': 'attraction_74', 'rel': 'Located_In -> Available_In', 'target_id': 'activity_104', 'target_name': 'Sapa Activity 104', 'target_desc': 'A unique experience in Sapa where visitors can enjoy boat rides.', 'labels': ['Entity', 'Activity']}\n",
      "{'source': 'attraction_74', 'rel': 'Located_In -> Available_In', 'target_id': 'activity_103', 'target_name': 'Sapa Activity 103', 'target_desc': 'A unique experience in Sapa where visitors can enjoy local markets.', 'labels': ['Entity', 'Activity']}\n",
      "{'source': 'attraction_74', 'rel': 'Located_In -> Available_In', 'target_id': 'activity_102', 'target_name': 'Sapa Activity 102', 'target_desc': 'A unique experience in Sapa where visitors can enjoy bicycle tours.', 'labels': ['Entity', 'Activity']}\n",
      "{'source': 'attraction_74', 'rel': 'Located_In -> Available_In', 'target_id': 'activity_101', 'target_name': 'Sapa Activity 101', 'target_desc': 'A unique experience in Sapa where visitors can enjoy boat rides.', 'labels': ['Entity', 'Activity']}\n",
      "{'source': 'attraction_74', 'rel': 'Located_In -> Available_In', 'target_id': 'activity_100', 'target_name': 'Sapa Activity 100', 'target_desc': 'A unique experience in Sapa where visitors can enjoy boat rides.', 'labels': ['Entity', 'Activity']}\n",
      "{'source': 'attraction_74', 'rel': 'Located_In -> Available_In', 'target_id': 'activity_99', 'target_name': 'Sapa Activity 99', 'target_desc': 'A unique experience in Sapa where visitors can enjoy bicycle tours.', 'labels': ['Entity', 'Activity']}\n",
      "{'source': 'attraction_74', 'rel': 'Located_In -> Available_In', 'target_id': 'activity_98', 'target_name': 'Sapa Activity 98', 'target_desc': 'A unique experience in Sapa where visitors can enjoy boat rides.', 'labels': ['Entity', 'Activity']}\n",
      "{'source': 'attraction_74', 'rel': 'Located_In -> Available_In', 'target_id': 'activity_97', 'target_name': 'Sapa Activity 97', 'target_desc': 'A unique experience in Sapa where visitors can enjoy cooking classes.', 'labels': ['Entity', 'Activity']}\n",
      "{'source': 'attraction_72', 'rel': 'Located_In', 'target_id': 'city_sapa', 'target_name': 'Sapa', 'target_desc': 'Sapa is located in Northern Vietnam. It’s known for its mountain, trekking, ethnic experiences, combining local culture, food, and history. Travelers often visit for authentic Vietnamese experiences, from exploring markets and temples to trying street food and scenic excursions.', 'labels': ['Entity', 'City']}\n",
      "{'source': 'attraction_72', 'rel': 'Located_In -> Available_In', 'target_id': 'activity_105', 'target_name': 'Sapa Activity 105', 'target_desc': 'A unique experience in Sapa where visitors can enjoy cooking classes.', 'labels': ['Entity', 'Activity']}\n",
      "{'source': 'attraction_72', 'rel': 'Located_In -> Available_In', 'target_id': 'activity_104', 'target_name': 'Sapa Activity 104', 'target_desc': 'A unique experience in Sapa where visitors can enjoy boat rides.', 'labels': ['Entity', 'Activity']}\n",
      "{'source': 'attraction_72', 'rel': 'Located_In -> Available_In', 'target_id': 'activity_103', 'target_name': 'Sapa Activity 103', 'target_desc': 'A unique experience in Sapa where visitors can enjoy local markets.', 'labels': ['Entity', 'Activity']}\n",
      "{'source': 'attraction_72', 'rel': 'Located_In -> Available_In', 'target_id': 'activity_102', 'target_name': 'Sapa Activity 102', 'target_desc': 'A unique experience in Sapa where visitors can enjoy bicycle tours.', 'labels': ['Entity', 'Activity']}\n",
      "{'source': 'attraction_72', 'rel': 'Located_In -> Available_In', 'target_id': 'activity_101', 'target_name': 'Sapa Activity 101', 'target_desc': 'A unique experience in Sapa where visitors can enjoy boat rides.', 'labels': ['Entity', 'Activity']}\n",
      "{'source': 'attraction_72', 'rel': 'Located_In -> Available_In', 'target_id': 'activity_100', 'target_name': 'Sapa Activity 100', 'target_desc': 'A unique experience in Sapa where visitors can enjoy boat rides.', 'labels': ['Entity', 'Activity']}\n",
      "{'source': 'attraction_72', 'rel': 'Located_In -> Available_In', 'target_id': 'activity_99', 'target_name': 'Sapa Activity 99', 'target_desc': 'A unique experience in Sapa where visitors can enjoy bicycle tours.', 'labels': ['Entity', 'Activity']}\n",
      "{'source': 'attraction_72', 'rel': 'Located_In -> Available_In', 'target_id': 'activity_98', 'target_name': 'Sapa Activity 98', 'target_desc': 'A unique experience in Sapa where visitors can enjoy boat rides.', 'labels': ['Entity', 'Activity']}\n",
      "{'source': 'attraction_72', 'rel': 'Located_In -> Available_In', 'target_id': 'activity_97', 'target_name': 'Sapa Activity 97', 'target_desc': 'A unique experience in Sapa where visitors can enjoy cooking classes.', 'labels': ['Entity', 'Activity']}\n",
      "{'source': 'attraction_84', 'rel': 'Located_In', 'target_id': 'city_sapa', 'target_name': 'Sapa', 'target_desc': 'Sapa is located in Northern Vietnam. It’s known for its mountain, trekking, ethnic experiences, combining local culture, food, and history. Travelers often visit for authentic Vietnamese experiences, from exploring markets and temples to trying street food and scenic excursions.', 'labels': ['Entity', 'City']}\n",
      "{'source': 'attraction_84', 'rel': 'Located_In -> Available_In', 'target_id': 'activity_105', 'target_name': 'Sapa Activity 105', 'target_desc': 'A unique experience in Sapa where visitors can enjoy cooking classes.', 'labels': ['Entity', 'Activity']}\n",
      "{'source': 'attraction_84', 'rel': 'Located_In -> Available_In', 'target_id': 'activity_104', 'target_name': 'Sapa Activity 104', 'target_desc': 'A unique experience in Sapa where visitors can enjoy boat rides.', 'labels': ['Entity', 'Activity']}\n",
      "{'source': 'attraction_84', 'rel': 'Located_In -> Available_In', 'target_id': 'activity_103', 'target_name': 'Sapa Activity 103', 'target_desc': 'A unique experience in Sapa where visitors can enjoy local markets.', 'labels': ['Entity', 'Activity']}\n",
      "{'source': 'attraction_84', 'rel': 'Located_In -> Available_In', 'target_id': 'activity_102', 'target_name': 'Sapa Activity 102', 'target_desc': 'A unique experience in Sapa where visitors can enjoy bicycle tours.', 'labels': ['Entity', 'Activity']}\n",
      "{'source': 'attraction_84', 'rel': 'Located_In -> Available_In', 'target_id': 'activity_101', 'target_name': 'Sapa Activity 101', 'target_desc': 'A unique experience in Sapa where visitors can enjoy boat rides.', 'labels': ['Entity', 'Activity']}\n",
      "{'source': 'attraction_84', 'rel': 'Located_In -> Available_In', 'target_id': 'activity_100', 'target_name': 'Sapa Activity 100', 'target_desc': 'A unique experience in Sapa where visitors can enjoy boat rides.', 'labels': ['Entity', 'Activity']}\n",
      "{'source': 'attraction_84', 'rel': 'Located_In -> Available_In', 'target_id': 'activity_99', 'target_name': 'Sapa Activity 99', 'target_desc': 'A unique experience in Sapa where visitors can enjoy bicycle tours.', 'labels': ['Entity', 'Activity']}\n",
      "{'source': 'attraction_84', 'rel': 'Located_In -> Available_In', 'target_id': 'activity_98', 'target_name': 'Sapa Activity 98', 'target_desc': 'A unique experience in Sapa where visitors can enjoy boat rides.', 'labels': ['Entity', 'Activity']}\n",
      "{'source': 'attraction_84', 'rel': 'Located_In -> Available_In', 'target_id': 'activity_97', 'target_name': 'Sapa Activity 97', 'target_desc': 'A unique experience in Sapa where visitors can enjoy cooking classes.', 'labels': ['Entity', 'Activity']}\n",
      "{'source': 'attraction_85', 'rel': 'Located_In', 'target_id': 'city_sapa', 'target_name': 'Sapa', 'target_desc': 'Sapa is located in Northern Vietnam. It’s known for its mountain, trekking, ethnic experiences, combining local culture, food, and history. Travelers often visit for authentic Vietnamese experiences, from exploring markets and temples to trying street food and scenic excursions.', 'labels': ['Entity', 'City']}\n",
      "{'source': 'attraction_85', 'rel': 'Located_In -> Available_In', 'target_id': 'activity_105', 'target_name': 'Sapa Activity 105', 'target_desc': 'A unique experience in Sapa where visitors can enjoy cooking classes.', 'labels': ['Entity', 'Activity']}\n",
      "{'source': 'attraction_85', 'rel': 'Located_In -> Available_In', 'target_id': 'activity_104', 'target_name': 'Sapa Activity 104', 'target_desc': 'A unique experience in Sapa where visitors can enjoy boat rides.', 'labels': ['Entity', 'Activity']}\n",
      "{'source': 'attraction_85', 'rel': 'Located_In -> Available_In', 'target_id': 'activity_103', 'target_name': 'Sapa Activity 103', 'target_desc': 'A unique experience in Sapa where visitors can enjoy local markets.', 'labels': ['Entity', 'Activity']}\n",
      "{'source': 'attraction_85', 'rel': 'Located_In -> Available_In', 'target_id': 'activity_102', 'target_name': 'Sapa Activity 102', 'target_desc': 'A unique experience in Sapa where visitors can enjoy bicycle tours.', 'labels': ['Entity', 'Activity']}\n",
      "{'source': 'attraction_85', 'rel': 'Located_In -> Available_In', 'target_id': 'activity_101', 'target_name': 'Sapa Activity 101', 'target_desc': 'A unique experience in Sapa where visitors can enjoy boat rides.', 'labels': ['Entity', 'Activity']}\n",
      "{'source': 'attraction_85', 'rel': 'Located_In -> Available_In', 'target_id': 'activity_100', 'target_name': 'Sapa Activity 100', 'target_desc': 'A unique experience in Sapa where visitors can enjoy boat rides.', 'labels': ['Entity', 'Activity']}\n",
      "{'source': 'attraction_85', 'rel': 'Located_In -> Available_In', 'target_id': 'activity_99', 'target_name': 'Sapa Activity 99', 'target_desc': 'A unique experience in Sapa where visitors can enjoy bicycle tours.', 'labels': ['Entity', 'Activity']}\n",
      "{'source': 'attraction_85', 'rel': 'Located_In -> Available_In', 'target_id': 'activity_98', 'target_name': 'Sapa Activity 98', 'target_desc': 'A unique experience in Sapa where visitors can enjoy boat rides.', 'labels': ['Entity', 'Activity']}\n",
      "{'source': 'attraction_85', 'rel': 'Located_In -> Available_In', 'target_id': 'activity_97', 'target_name': 'Sapa Activity 97', 'target_desc': 'A unique experience in Sapa where visitors can enjoy cooking classes.', 'labels': ['Entity', 'Activity']}\n",
      "{'source': 'attraction_78', 'rel': 'Located_In', 'target_id': 'city_sapa', 'target_name': 'Sapa', 'target_desc': 'Sapa is located in Northern Vietnam. It’s known for its mountain, trekking, ethnic experiences, combining local culture, food, and history. Travelers often visit for authentic Vietnamese experiences, from exploring markets and temples to trying street food and scenic excursions.', 'labels': ['Entity', 'City']}\n",
      "{'source': 'attraction_78', 'rel': 'Located_In -> Available_In', 'target_id': 'activity_105', 'target_name': 'Sapa Activity 105', 'target_desc': 'A unique experience in Sapa where visitors can enjoy cooking classes.', 'labels': ['Entity', 'Activity']}\n",
      "{'source': 'attraction_78', 'rel': 'Located_In -> Available_In', 'target_id': 'activity_104', 'target_name': 'Sapa Activity 104', 'target_desc': 'A unique experience in Sapa where visitors can enjoy boat rides.', 'labels': ['Entity', 'Activity']}\n",
      "{'source': 'attraction_78', 'rel': 'Located_In -> Available_In', 'target_id': 'activity_103', 'target_name': 'Sapa Activity 103', 'target_desc': 'A unique experience in Sapa where visitors can enjoy local markets.', 'labels': ['Entity', 'Activity']}\n",
      "{'source': 'attraction_78', 'rel': 'Located_In -> Available_In', 'target_id': 'activity_102', 'target_name': 'Sapa Activity 102', 'target_desc': 'A unique experience in Sapa where visitors can enjoy bicycle tours.', 'labels': ['Entity', 'Activity']}\n",
      "{'source': 'attraction_78', 'rel': 'Located_In -> Available_In', 'target_id': 'activity_101', 'target_name': 'Sapa Activity 101', 'target_desc': 'A unique experience in Sapa where visitors can enjoy boat rides.', 'labels': ['Entity', 'Activity']}\n",
      "{'source': 'attraction_78', 'rel': 'Located_In -> Available_In', 'target_id': 'activity_100', 'target_name': 'Sapa Activity 100', 'target_desc': 'A unique experience in Sapa where visitors can enjoy boat rides.', 'labels': ['Entity', 'Activity']}\n",
      "{'source': 'attraction_78', 'rel': 'Located_In -> Available_In', 'target_id': 'activity_99', 'target_name': 'Sapa Activity 99', 'target_desc': 'A unique experience in Sapa where visitors can enjoy bicycle tours.', 'labels': ['Entity', 'Activity']}\n",
      "{'source': 'attraction_78', 'rel': 'Located_In -> Available_In', 'target_id': 'activity_98', 'target_name': 'Sapa Activity 98', 'target_desc': 'A unique experience in Sapa where visitors can enjoy boat rides.', 'labels': ['Entity', 'Activity']}\n",
      "{'source': 'attraction_78', 'rel': 'Located_In -> Available_In', 'target_id': 'activity_97', 'target_name': 'Sapa Activity 97', 'target_desc': 'A unique experience in Sapa where visitors can enjoy cooking classes.', 'labels': ['Entity', 'Activity']}\n",
      "{'source': 'attraction_82', 'rel': 'Located_In', 'target_id': 'city_sapa', 'target_name': 'Sapa', 'target_desc': 'Sapa is located in Northern Vietnam. It’s known for its mountain, trekking, ethnic experiences, combining local culture, food, and history. Travelers often visit for authentic Vietnamese experiences, from exploring markets and temples to trying street food and scenic excursions.', 'labels': ['Entity', 'City']}\n",
      "{'source': 'attraction_82', 'rel': 'Located_In -> Available_In', 'target_id': 'activity_105', 'target_name': 'Sapa Activity 105', 'target_desc': 'A unique experience in Sapa where visitors can enjoy cooking classes.', 'labels': ['Entity', 'Activity']}\n",
      "{'source': 'attraction_82', 'rel': 'Located_In -> Available_In', 'target_id': 'activity_104', 'target_name': 'Sapa Activity 104', 'target_desc': 'A unique experience in Sapa where visitors can enjoy boat rides.', 'labels': ['Entity', 'Activity']}\n",
      "{'source': 'attraction_82', 'rel': 'Located_In -> Available_In', 'target_id': 'activity_103', 'target_name': 'Sapa Activity 103', 'target_desc': 'A unique experience in Sapa where visitors can enjoy local markets.', 'labels': ['Entity', 'Activity']}\n",
      "{'source': 'attraction_82', 'rel': 'Located_In -> Available_In', 'target_id': 'activity_102', 'target_name': 'Sapa Activity 102', 'target_desc': 'A unique experience in Sapa where visitors can enjoy bicycle tours.', 'labels': ['Entity', 'Activity']}\n",
      "{'source': 'attraction_82', 'rel': 'Located_In -> Available_In', 'target_id': 'activity_101', 'target_name': 'Sapa Activity 101', 'target_desc': 'A unique experience in Sapa where visitors can enjoy boat rides.', 'labels': ['Entity', 'Activity']}\n",
      "{'source': 'attraction_82', 'rel': 'Located_In -> Available_In', 'target_id': 'activity_100', 'target_name': 'Sapa Activity 100', 'target_desc': 'A unique experience in Sapa where visitors can enjoy boat rides.', 'labels': ['Entity', 'Activity']}\n",
      "{'source': 'attraction_82', 'rel': 'Located_In -> Available_In', 'target_id': 'activity_99', 'target_name': 'Sapa Activity 99', 'target_desc': 'A unique experience in Sapa where visitors can enjoy bicycle tours.', 'labels': ['Entity', 'Activity']}\n",
      "{'source': 'attraction_82', 'rel': 'Located_In -> Available_In', 'target_id': 'activity_98', 'target_name': 'Sapa Activity 98', 'target_desc': 'A unique experience in Sapa where visitors can enjoy boat rides.', 'labels': ['Entity', 'Activity']}\n",
      "{'source': 'attraction_82', 'rel': 'Located_In -> Available_In', 'target_id': 'activity_97', 'target_name': 'Sapa Activity 97', 'target_desc': 'A unique experience in Sapa where visitors can enjoy cooking classes.', 'labels': ['Entity', 'Activity']}\n",
      "{'source': 'attraction_73', 'rel': 'Located_In', 'target_id': 'city_sapa', 'target_name': 'Sapa', 'target_desc': 'Sapa is located in Northern Vietnam. It’s known for its mountain, trekking, ethnic experiences, combining local culture, food, and history. Travelers often visit for authentic Vietnamese experiences, from exploring markets and temples to trying street food and scenic excursions.', 'labels': ['Entity', 'City']}\n",
      "{'source': 'attraction_73', 'rel': 'Located_In -> Available_In', 'target_id': 'activity_105', 'target_name': 'Sapa Activity 105', 'target_desc': 'A unique experience in Sapa where visitors can enjoy cooking classes.', 'labels': ['Entity', 'Activity']}\n",
      "{'source': 'attraction_73', 'rel': 'Located_In -> Available_In', 'target_id': 'activity_104', 'target_name': 'Sapa Activity 104', 'target_desc': 'A unique experience in Sapa where visitors can enjoy boat rides.', 'labels': ['Entity', 'Activity']}\n",
      "{'source': 'attraction_73', 'rel': 'Located_In -> Available_In', 'target_id': 'activity_103', 'target_name': 'Sapa Activity 103', 'target_desc': 'A unique experience in Sapa where visitors can enjoy local markets.', 'labels': ['Entity', 'Activity']}\n",
      "{'source': 'attraction_73', 'rel': 'Located_In -> Available_In', 'target_id': 'activity_102', 'target_name': 'Sapa Activity 102', 'target_desc': 'A unique experience in Sapa where visitors can enjoy bicycle tours.', 'labels': ['Entity', 'Activity']}\n",
      "{'source': 'attraction_73', 'rel': 'Located_In -> Available_In', 'target_id': 'activity_101', 'target_name': 'Sapa Activity 101', 'target_desc': 'A unique experience in Sapa where visitors can enjoy boat rides.', 'labels': ['Entity', 'Activity']}\n",
      "{'source': 'attraction_73', 'rel': 'Located_In -> Available_In', 'target_id': 'activity_100', 'target_name': 'Sapa Activity 100', 'target_desc': 'A unique experience in Sapa where visitors can enjoy boat rides.', 'labels': ['Entity', 'Activity']}\n",
      "{'source': 'attraction_73', 'rel': 'Located_In -> Available_In', 'target_id': 'activity_99', 'target_name': 'Sapa Activity 99', 'target_desc': 'A unique experience in Sapa where visitors can enjoy bicycle tours.', 'labels': ['Entity', 'Activity']}\n",
      "{'source': 'attraction_73', 'rel': 'Located_In -> Available_In', 'target_id': 'activity_98', 'target_name': 'Sapa Activity 98', 'target_desc': 'A unique experience in Sapa where visitors can enjoy boat rides.', 'labels': ['Entity', 'Activity']}\n",
      "{'source': 'attraction_73', 'rel': 'Located_In -> Available_In', 'target_id': 'activity_97', 'target_name': 'Sapa Activity 97', 'target_desc': 'A unique experience in Sapa where visitors can enjoy cooking classes.', 'labels': ['Entity', 'Activity']}\n",
      "{'source': 'attraction_71', 'rel': 'Located_In', 'target_id': 'city_sapa', 'target_name': 'Sapa', 'target_desc': 'Sapa is located in Northern Vietnam. It’s known for its mountain, trekking, ethnic experiences, combining local culture, food, and history. Travelers often visit for authentic Vietnamese experiences, from exploring markets and temples to trying street food and scenic excursions.', 'labels': ['Entity', 'City']}\n",
      "{'source': 'attraction_71', 'rel': 'Located_In -> Available_In', 'target_id': 'activity_105', 'target_name': 'Sapa Activity 105', 'target_desc': 'A unique experience in Sapa where visitors can enjoy cooking classes.', 'labels': ['Entity', 'Activity']}\n",
      "{'source': 'attraction_71', 'rel': 'Located_In -> Available_In', 'target_id': 'activity_104', 'target_name': 'Sapa Activity 104', 'target_desc': 'A unique experience in Sapa where visitors can enjoy boat rides.', 'labels': ['Entity', 'Activity']}\n",
      "{'source': 'attraction_71', 'rel': 'Located_In -> Available_In', 'target_id': 'activity_103', 'target_name': 'Sapa Activity 103', 'target_desc': 'A unique experience in Sapa where visitors can enjoy local markets.', 'labels': ['Entity', 'Activity']}\n",
      "{'source': 'attraction_71', 'rel': 'Located_In -> Available_In', 'target_id': 'activity_102', 'target_name': 'Sapa Activity 102', 'target_desc': 'A unique experience in Sapa where visitors can enjoy bicycle tours.', 'labels': ['Entity', 'Activity']}\n",
      "{'source': 'attraction_71', 'rel': 'Located_In -> Available_In', 'target_id': 'activity_101', 'target_name': 'Sapa Activity 101', 'target_desc': 'A unique experience in Sapa where visitors can enjoy boat rides.', 'labels': ['Entity', 'Activity']}\n",
      "{'source': 'attraction_71', 'rel': 'Located_In -> Available_In', 'target_id': 'activity_100', 'target_name': 'Sapa Activity 100', 'target_desc': 'A unique experience in Sapa where visitors can enjoy boat rides.', 'labels': ['Entity', 'Activity']}\n",
      "{'source': 'attraction_71', 'rel': 'Located_In -> Available_In', 'target_id': 'activity_99', 'target_name': 'Sapa Activity 99', 'target_desc': 'A unique experience in Sapa where visitors can enjoy bicycle tours.', 'labels': ['Entity', 'Activity']}\n",
      "{'source': 'attraction_71', 'rel': 'Located_In -> Available_In', 'target_id': 'activity_98', 'target_name': 'Sapa Activity 98', 'target_desc': 'A unique experience in Sapa where visitors can enjoy boat rides.', 'labels': ['Entity', 'Activity']}\n",
      "{'source': 'attraction_71', 'rel': 'Located_In -> Available_In', 'target_id': 'activity_97', 'target_name': 'Sapa Activity 97', 'target_desc': 'A unique experience in Sapa where visitors can enjoy cooking classes.', 'labels': ['Entity', 'Activity']}\n",
      "{'source': 'attraction_75', 'rel': 'Located_In', 'target_id': 'city_sapa', 'target_name': 'Sapa', 'target_desc': 'Sapa is located in Northern Vietnam. It’s known for its mountain, trekking, ethnic experiences, combining local culture, food, and history. Travelers often visit for authentic Vietnamese experiences, from exploring markets and temples to trying street food and scenic excursions.', 'labels': ['Entity', 'City']}\n",
      "{'source': 'attraction_75', 'rel': 'Located_In -> Available_In', 'target_id': 'activity_105', 'target_name': 'Sapa Activity 105', 'target_desc': 'A unique experience in Sapa where visitors can enjoy cooking classes.', 'labels': ['Entity', 'Activity']}\n",
      "{'source': 'attraction_75', 'rel': 'Located_In -> Available_In', 'target_id': 'activity_104', 'target_name': 'Sapa Activity 104', 'target_desc': 'A unique experience in Sapa where visitors can enjoy boat rides.', 'labels': ['Entity', 'Activity']}\n",
      "{'source': 'attraction_75', 'rel': 'Located_In -> Available_In', 'target_id': 'activity_103', 'target_name': 'Sapa Activity 103', 'target_desc': 'A unique experience in Sapa where visitors can enjoy local markets.', 'labels': ['Entity', 'Activity']}\n",
      "{'source': 'attraction_75', 'rel': 'Located_In -> Available_In', 'target_id': 'activity_102', 'target_name': 'Sapa Activity 102', 'target_desc': 'A unique experience in Sapa where visitors can enjoy bicycle tours.', 'labels': ['Entity', 'Activity']}\n",
      "{'source': 'attraction_75', 'rel': 'Located_In -> Available_In', 'target_id': 'activity_101', 'target_name': 'Sapa Activity 101', 'target_desc': 'A unique experience in Sapa where visitors can enjoy boat rides.', 'labels': ['Entity', 'Activity']}\n",
      "{'source': 'attraction_75', 'rel': 'Located_In -> Available_In', 'target_id': 'activity_100', 'target_name': 'Sapa Activity 100', 'target_desc': 'A unique experience in Sapa where visitors can enjoy boat rides.', 'labels': ['Entity', 'Activity']}\n",
      "{'source': 'attraction_75', 'rel': 'Located_In -> Available_In', 'target_id': 'activity_99', 'target_name': 'Sapa Activity 99', 'target_desc': 'A unique experience in Sapa where visitors can enjoy bicycle tours.', 'labels': ['Entity', 'Activity']}\n",
      "{'source': 'attraction_75', 'rel': 'Located_In -> Available_In', 'target_id': 'activity_98', 'target_name': 'Sapa Activity 98', 'target_desc': 'A unique experience in Sapa where visitors can enjoy boat rides.', 'labels': ['Entity', 'Activity']}\n",
      "{'source': 'attraction_75', 'rel': 'Located_In -> Available_In', 'target_id': 'activity_97', 'target_name': 'Sapa Activity 97', 'target_desc': 'A unique experience in Sapa where visitors can enjoy cooking classes.', 'labels': ['Entity', 'Activity']}\n"
     ]
    }
   ],
   "source": [
    "for i in fetch_graph_context([i['id'] for i in a], 2):\n",
    "    pd.Dat"
   ]
  },
  {
   "cell_type": "code",
   "execution_count": 28,
   "id": "b0e7c640",
   "metadata": {},
   "outputs": [
    {
     "ename": "TypeError",
     "evalue": "sequence item 0: expected str instance, ScoredVector found",
     "output_type": "error",
     "traceback": [
      "\u001b[31m---------------------------------------------------------------------------\u001b[39m",
      "\u001b[31mTypeError\u001b[39m                                 Traceback (most recent call last)",
      "\u001b[36mCell\u001b[39m\u001b[36m \u001b[39m\u001b[32mIn[28]\u001b[39m\u001b[32m, line 1\u001b[39m\n\u001b[32m----> \u001b[39m\u001b[32m1\u001b[39m \u001b[43mbuild_prompt\u001b[49m\u001b[43m(\u001b[49m\u001b[33;43m\"\u001b[39;49m\u001b[33;43mhow is sapa in winters?\u001b[39;49m\u001b[33;43m\"\u001b[39;49m\u001b[43m,\u001b[49m\u001b[43m \u001b[49m\u001b[43mpinecone_query\u001b[49m\u001b[43m(\u001b[49m\u001b[33;43m\"\u001b[39;49m\u001b[33;43mhow is sapa in winters?\u001b[39;49m\u001b[33;43m\"\u001b[39;49m\u001b[43m)\u001b[49m\u001b[43m,\u001b[49m\u001b[43m \u001b[49m\u001b[43mfetch_graph_context\u001b[49m\u001b[43m(\u001b[49m\u001b[43mx\u001b[49m\u001b[43m,\u001b[49m\u001b[43m \u001b[49m\u001b[32;43m2\u001b[39;49m\u001b[43m)\u001b[49m\u001b[43m)\u001b[49m\n",
      "\u001b[36mCell\u001b[39m\u001b[36m \u001b[39m\u001b[32mIn[27]\u001b[39m\u001b[32m, line 125\u001b[39m, in \u001b[36mbuild_prompt\u001b[39m\u001b[34m(user_query, pinecone_matches, graph_facts)\u001b[39m\n\u001b[32m     96\u001b[39m system = (\n\u001b[32m     97\u001b[39m     \u001b[33m\"\u001b[39m\u001b[33mYou are a helpful travel assistant for Vietnam tourism. \u001b[39m\u001b[33m\"\u001b[39m\n\u001b[32m     98\u001b[39m     \u001b[33m\"\u001b[39m\u001b[33mAnalyze the semantic search results and graph relationships provided. \u001b[39m\u001b[33m\"\u001b[39m\n\u001b[32m     99\u001b[39m     \u001b[33m\"\u001b[39m\u001b[33mGive clear, practical travel recommendations with specific places and connections between them.\u001b[39m\u001b[33m\"\u001b[39m\n\u001b[32m    100\u001b[39m )\n\u001b[32m    102\u001b[39m \u001b[38;5;66;03m#vec_context = [i for i in graph_facts]\u001b[39;00m\n\u001b[32m    103\u001b[39m \u001b[38;5;66;03m#for m in pinecone_matches[:10]:\u001b[39;00m\n\u001b[32m    104\u001b[39m     \u001b[38;5;66;03m##meta = m[\"metadata\"]\u001b[39;00m\n\u001b[32m   (...)\u001b[39m\u001b[32m    118\u001b[39m     \u001b[38;5;66;03m#desc = f\" - {f['target_desc']}...\" if f['target_desc'] else \"\"\u001b[39;00m\n\u001b[32m    119\u001b[39m     \u001b[38;5;66;03m#graph_context.append(f\"• {f['source']} {rel_type} {f['target_name']}{desc}\")\u001b[39;00m\n\u001b[32m    121\u001b[39m prompt = [\n\u001b[32m    122\u001b[39m     {\u001b[33m\"\u001b[39m\u001b[33mrole\u001b[39m\u001b[33m\"\u001b[39m: \u001b[33m\"\u001b[39m\u001b[33msystem\u001b[39m\u001b[33m\"\u001b[39m, \u001b[33m\"\u001b[39m\u001b[33mcontent\u001b[39m\u001b[33m\"\u001b[39m: system},\n\u001b[32m    123\u001b[39m     {\u001b[33m\"\u001b[39m\u001b[33mrole\u001b[39m\u001b[33m\"\u001b[39m: \u001b[33m\"\u001b[39m\u001b[33muser\u001b[39m\u001b[33m\"\u001b[39m, \u001b[33m\"\u001b[39m\u001b[33mcontent\u001b[39m\u001b[33m\"\u001b[39m:\n\u001b[32m    124\u001b[39m      \u001b[33mf\u001b[39m\u001b[33m\"\u001b[39m\u001b[33mUser query: \u001b[39m\u001b[38;5;132;01m{\u001b[39;00muser_query\u001b[38;5;132;01m}\u001b[39;00m\u001b[38;5;130;01m\\n\u001b[39;00m\u001b[38;5;130;01m\\n\u001b[39;00m\u001b[33m\"\u001b[39m\n\u001b[32m--> \u001b[39m\u001b[32m125\u001b[39m      \u001b[33m\"\u001b[39m\u001b[33mTop semantic matches (from vector DB):\u001b[39m\u001b[38;5;130;01m\\n\u001b[39;00m\u001b[33m\"\u001b[39m + \u001b[33;43m\"\u001b[39;49m\u001b[38;5;130;43;01m\\n\u001b[39;49;00m\u001b[33;43m\"\u001b[39;49m\u001b[43m.\u001b[49m\u001b[43mjoin\u001b[49m\u001b[43m(\u001b[49m\u001b[43mpinecone_matches\u001b[49m\u001b[43m)\u001b[49m + \u001b[33m\"\u001b[39m\u001b[38;5;130;01m\\n\u001b[39;00m\u001b[38;5;130;01m\\n\u001b[39;00m\u001b[33m\"\u001b[39m\n\u001b[32m    126\u001b[39m      \u001b[33m\"\u001b[39m\u001b[33mGraph facts (neighboring relations):\u001b[39m\u001b[38;5;130;01m\\n\u001b[39;00m\u001b[33m\"\u001b[39m + \u001b[33m\"\u001b[39m\u001b[38;5;130;01m\\n\u001b[39;00m\u001b[33m\"\u001b[39m.join(graph_facts) + \u001b[33m\"\u001b[39m\u001b[38;5;130;01m\\n\u001b[39;00m\u001b[38;5;130;01m\\n\u001b[39;00m\u001b[33m\"\u001b[39m\n\u001b[32m    127\u001b[39m      \u001b[33m\"\u001b[39m\u001b[33mBased on the above, answer the user\u001b[39m\u001b[33m'\u001b[39m\u001b[33ms question. If helpful, suggest 2–3 concrete itinerary steps or tips and mention node ids for references.\u001b[39m\u001b[33m\"\u001b[39m}\n\u001b[32m    128\u001b[39m ]\n\u001b[32m    129\u001b[39m \u001b[38;5;28;01mreturn\u001b[39;00m prompt\n",
      "\u001b[31mTypeError\u001b[39m: sequence item 0: expected str instance, ScoredVector found"
     ]
    }
   ],
   "source": [
    "build_prompt(\"how is sapa in winters?\", pinecone_query(\"how is sapa in winters?\"), fetch_graph_context(x, 2))"
   ]
  },
  {
   "cell_type": "code",
   "execution_count": 13,
   "id": "72985fae",
   "metadata": {},
   "outputs": [],
   "source": [
    "a=fetch_graph_context(x,2)"
   ]
  },
  {
   "cell_type": "code",
   "execution_count": 7,
   "id": "7edc9482",
   "metadata": {},
   "outputs": [
    {
     "data": {
      "text/plain": [
       "100"
      ]
     },
     "execution_count": 7,
     "metadata": {},
     "output_type": "execute_result"
    }
   ],
   "source": [
    "len(a)"
   ]
  },
  {
   "cell_type": "code",
   "execution_count": 8,
   "id": "7c903eb8",
   "metadata": {},
   "outputs": [
    {
     "data": {
      "text/plain": [
       "'Yes, I understand graph databases very well. Thank you for providing an example.\\n\\nThe data you\\'ve shared is a common way to represent a graph, specifically as a list of **edges** or **relationships**. Each dictionary in the list describes a single directed connection from a `source` node to a `target` node with a specific relationship type (`rel`).\\n\\nLet\\'s break down the graph you\\'ve provided:\\n\\n### 1. The Core Components (Nodes and Relationships)\\n\\nBased on your data, we can identify three main types of **nodes** (or entities):\\n\\n*   **City:** Represented by `city_sapa`. It has properties like a name (\"Sapa\") and a description.\\n*   **Activity:** Represented by `activity_96` through `activity_105`. These nodes have properties like a name (`target_name`), a description (`target_desc`), and labels (`[\\'Entity\\', \\'Activity\\']`).\\n*   **Attraction:** Represented by source IDs like `attraction_71`, `attraction_72`, etc. While their specific names and descriptions aren\\'t defined in this data dump (they only appear as sources), they are distinct nodes in the graph.\\n\\nAnd we can identify three types of **relationships** (or edges):\\n\\n*   **:Available_In:** This relationship connects a `City` to an `Activity`. It means \"this activity can be done in this city.\"\\n    *   *Example:* `(city_sapa) -[:Available_In]-> (activity_105: Sapa Activity 105)`\\n*   **:Located_In:** This relationship connects an `Attraction` to a `City`. It means \"this attraction is physically located in this city.\"\\n    *   *Example:* `(attraction_78) -[:Located_In]-> (city_sapa: Sapa)`\\n*   **:Located_In -> Available_In:** This is an interesting, likely inferred or pre-calculated, relationship. It connects an `Attraction` directly to an `Activity`. It represents a two-step path: an attraction is located in a city, and that city has an activity available. This is often done to speed up queries.\\n    *   *Example:* `(attraction_78) -[:Located_In -> Available_In]-> (activity_105: Sapa Activity 105)`\\n\\n### 2. What the Graph Looks Like\\n\\nVisually, the structure is a \"hub and spoke\" model centered around the `city_sapa` node:\\n\\n```\\n                                          +---------------------+\\n                                     +----| Activity (Boat Ride)|\\n                                     |    +---------------------+\\n                                     |\\n                                     |    +------------------------+\\n+-------------+ --[Located_In]--> +----+--| Activity (Cooking Class) |\\n| Attraction  |                   | City |    +------------------------+\\n+-------------+                   | Sapa |\\n      |                           +----+--| Activity (Local Market)  |\\n      |                             | `   +------------------------+\\n      |                             |\\n      | [Located_In -> Available_In]|\\n      |                             |\\n      +-----------------------------+\\n```\\n\\n*   Multiple **Attraction** nodes point to the **City** of Sapa.\\n*   The **City** of Sapa points to all the **Activities** that are available there.\\n*   Each **Attraction** also has direct \"shortcut\" relationships to all the activities available in its city.\\n\\n### 3. What Questions This Graph Can Answer\\n\\nThis graph structure is powerful because it allows you to answer complex questions with simple queries, for example:\\n\\n*   **\"What can I do in Sapa?\"**\\n    *   *Graph Traversal:* Start at the `city_sapa` node and follow all the outgoing `:Available_In` relationships to find the connected `Activity` nodes.\\n\\n*   **\"What attractions are in Sapa?\"**\\n    *   *Graph Traversal:* Find all `Attraction` nodes that have an outgoing `:Located_In` relationship pointing to the `city_sapa` node.\\n\\n*   **\"I\\'m at \\'attraction_78\\'. What activities are nearby?\"**\\n    *   *Graph Traversal:* This is where the `Located_In -> Available_In` shortcut is brilliant. You just start at `attraction_78` and follow those relationships directly to get a list of all activities in Sapa, without needing to go through the city node first.\\n\\n*   **\"Show me all cities that offer \\'cooking classes\\'.\"**\\n    *   *Graph Traversal:* Find all `Activity` nodes where the `target_desc` contains \"cooking classes\", then traverse the `:Available_In` relationship *backwards* to find the city they are in.\\n\\nIn summary, yes, I understand this graph perfectly. It\\'s a well-structured knowledge graph for travel information, connecting places, points of interest, and things to do.'"
      ]
     },
     "execution_count": 8,
     "metadata": {},
     "output_type": "execute_result"
    }
   ],
   "source": [
    "call_chat(f\"do you und  ersatand graph databases? here's one: {a}\")"
   ]
  },
  {
   "cell_type": "code",
   "execution_count": 9,
   "id": "5f65ee62",
   "metadata": {},
   "outputs": [
    {
     "data": {
      "text/plain": [
       "[{'role': 'system',\n",
       "  'content': 'You are a helpful travel assistant for Vietnam tourism. Analyze the semantic search results and graph relationships provided. Give clear, practical travel recommendations with specific places and connections between them.'},\n",
       " {'role': 'user',\n",
       "  'content': \"User query: What to do in Sapa during winter?\\n\\nTop semantic matches (from vector DB):\\n• Sapa (Relevant) in Northern Vietnam\\n• Sapa Attraction 84 (Relevant) in Sapa\\n• Sapa Attraction 74 (Relevant) in Sapa\\n• Sapa Attraction 85 (Relevant) in Sapa\\n• Sapa Attraction 78 (Relevant) in Sapa\\n• Sapa Attraction 82 (Relevant) in Sapa\\n• Sapa Attraction 72 (Relevant) in Sapa\\n• Sapa Attraction 75 (Relevant) in Sapa\\n• Sapa Attraction 71 (Relevant) in Sapa\\n• Sapa Attraction 73 (Relevant) in Sapa\\n\\nGraph facts (neighboring relations):\\n\\n\\nBased on the above, answer the user's question. If helpful, suggest 2–3 concrete itinerary steps or tips and mention node ids for references.\"}]"
      ]
     },
     "execution_count": 9,
     "metadata": {},
     "output_type": "execute_result"
    }
   ],
   "source": [
    "build_prompt(\"What to do in Sapa during winter?\", pinecone_query(\"how is sapa in winters?\"), [])"
   ]
  }
 ],
 "metadata": {
  "kernelspec": {
   "display_name": "Python 3",
   "language": "python",
   "name": "python3"
  },
  "language_info": {
   "codemirror_mode": {
    "name": "ipython",
    "version": 3
   },
   "file_extension": ".py",
   "mimetype": "text/x-python",
   "name": "python",
   "nbconvert_exporter": "python",
   "pygments_lexer": "ipython3",
   "version": "3.12.1"
  }
 },
 "nbformat": 4,
 "nbformat_minor": 5
}
